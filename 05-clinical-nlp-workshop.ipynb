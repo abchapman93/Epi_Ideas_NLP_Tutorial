{
 "cells": [
  {
   "cell_type": "code",
   "execution_count": null,
   "metadata": {},
   "outputs": [],
   "source": [
    "!pip install medspacy"
   ]
  },
  {
   "cell_type": "code",
   "execution_count": null,
   "metadata": {},
   "outputs": [],
   "source": [
    "!pip install https://github.com/abchapman93/spacy_models/raw/master/releases/en_info_3700_i2b2_2012-0.1.0/dist/en_info_3700_i2b2_2012-0.1.0.tar.gz"
   ]
  },
  {
   "cell_type": "markdown",
   "metadata": {},
   "source": [
    "# Overview\n",
    "In this notebook, we'll put together all of the NLP tools we've learned and apply them to several clinical problems:\n",
    "\n",
    "1. Detecting evidence of surgical site infections (SSIs) and body location\n",
    "2. Identify texts with positive COVID-19 cases\n",
    "3. Write some examples of your own research problems which could use NLP and show some dummy examples of how you could use medSpaCy"
   ]
  },
  {
   "cell_type": "code",
   "execution_count": null,
   "metadata": {},
   "outputs": [],
   "source": [
    "import spacy\n",
    "import medspacy\n",
    "\n",
    "from medspacy.ner import TargetRule\n",
    "from medspacy.context import ConTextItem\n",
    "from medspacy.visualization import visualize_ent, visualize_dep"
   ]
  },
  {
   "cell_type": "markdown",
   "metadata": {},
   "source": [
    "## Choice of Model\n",
    "For Tasks #1-2, which are short and include very specific concepts, we'll load a blank model and add target rules to match the concepts. Task #3 is quite long and will include many different concepts. This is exactly the kind of scenario when we would want to use a pre-trained machine learning model."
   ]
  },
  {
   "cell_type": "code",
   "execution_count": null,
   "metadata": {},
   "outputs": [],
   "source": [
    "nlp = medspacy.load()\n",
    "# nlp = medspacy.load(\"en_info_3700_i2b2_2012\")"
   ]
  },
  {
   "cell_type": "code",
   "execution_count": null,
   "metadata": {},
   "outputs": [],
   "source": [
    "nlp.pipe_names"
   ]
  },
  {
   "cell_type": "code",
   "execution_count": null,
   "metadata": {},
   "outputs": [],
   "source": [
    "target_matcher = nlp.get_pipe(\"target_matcher\")\n",
    "context = nlp.get_pipe(\"context\")"
   ]
  },
  {
   "cell_type": "markdown",
   "metadata": {},
   "source": [
    "# I. Surgical site infection\n",
    "Patient safety measures require identifying adverse outcomes of medical treatment, such as surgical site infections (SSIs). In this exercise, we will identify evidence of SSIs from radiology exams. \n",
    "\n",
    "- Add target rules to match any mention of evidence of SSI such as **\"fluid collection\"** or **\"abscess\"**\n",
    "- Add target rules to match any body location\n",
    "- Add context rules to identify any additional modifiers, such as negation or uncertainty\n",
    "\n",
    "See this manuscript: [Detecting Evidence of Intra-abdominal Surgical Site Infections From Radiology Reports Using Natural Language Processing](https://pubmed.ncbi.nlm.nih.gov/29854116/)"
   ]
  },
  {
   "cell_type": "code",
   "execution_count": null,
   "metadata": {},
   "outputs": [],
   "source": []
  },
  {
   "cell_type": "code",
   "execution_count": null,
   "metadata": {},
   "outputs": [],
   "source": [
    "texts = [\n",
    "    \"Fluid collection is seen in the abdomen.\",\n",
    "    \"There is no evidence of fluid collection.\",\n",
    "    \"PURPOSE OF EXAM: Rule out abscess.\",\n",
    "    \"Hematomas are seen around in the right lower quadrant.\",\n",
    "    \"No drainable collection is noted at this time.\",\n",
    "    \"Post-surgical enhancing fluid collections, most notable right lower quadrant and left pelvis.\",\n",
    "    \"please assess for possible ir drainage if abscess present.\",\n",
    "    \"Intraloop fluid collection with air-fluid level, might represent contained rupture or intraloop abscess.\",\n",
    "    \"No evidence of intra-abdominal abscess.\",\n",
    "    \"Right paracolic and anterior abdominal fluid collections with rim enhacement likely representing abscesses amenable to drainage.\",\n",
    "    \"r/o infiltrate, fluid collection\",\n",
    "    \"No fluid collection is identified within the abdomen and pelvis.\",\n",
    "    \"no fluid collection is seen around the anastamosis site\",\n",
    "    \"36 year old woman with nectrotzing pancreatitis and intraabdominal collections.\",\n",
    "    \"REASON FOR THIS EXAMINATION: CT abd/pelvis to access for dihiscence or abcess / fluid collection.\",\n",
    "]"
   ]
  },
  {
   "cell_type": "code",
   "execution_count": null,
   "metadata": {},
   "outputs": [],
   "source": [
    "target_rules = [\n",
    "    TargetRule(\"abdomen\", \"BODY_LOC\",\n",
    "              pattern =[\n",
    "                  {\"LOWER\": {\"IN\": [\"intra-abdominal\", \"intraabdominal\", \"abd\"]}},\n",
    "                  {\"LOWER\": {\"IN\": [\"right lower quadrant\", \"Right paracolic and anterior abdominal\"]}},\n",
    "              ]),\n",
    "    TargetRule(\"abdomen\", \"BODY_LOC\"),\n",
    "    # This will match both \"intra-abdominal\" and \"intraabdominal\"\n",
    "    TargetRule(\"intra-abdominal\", \"BODY_LOC\",\n",
    "              pattern=[{\"LOWER\": {\"REGEX\": \"intra-?abdominal\"}}]), \n",
    "    \n",
    "    TargetRule(\"abd\", \"BODY_LOC\"),\n",
    "    \n",
    "    # This will match \"left upper quadrant\", \"left lower quadrant\",\"right upper quadrant\", \"right lower quadrant\"\n",
    "    TargetRule(\"<LEFT/RIGHT> <UPPER/LOWER> quadrant\", \"BODY_LOC\",\n",
    "              pattern=[\n",
    "                  {\"LOWER\": {\"IN\": [\"left\", \"right\"]}},\n",
    "                  {\"LOWER\": {\"IN\": [\"upper\", \"lower\"]}},\n",
    "                  {\"LOWER\": \"quadrant\"}\n",
    "              ]),\n",
    "    \n",
    "    \n",
    "    TargetRule(\"<LEFT/RIGHT> paracolic\", \"BODY_LOC\",\n",
    "              pattern=[\n",
    "                  {\"LOWER\": {\"IN\": [\"left\", \"right\"]}},\n",
    "                  {\"LOWER\": \"paracolic\"}\n",
    "              ]),\n",
    "    TargetRule(\"<POSTERIOR/ANTERIOR> abdomen\", \"BODY_LOC\",\n",
    "              pattern=[\n",
    "                  {\"LOWER\": {\"IN\": [\"posterior\", \"anterior\"]}},\n",
    "                  {\"LOWER\": \"abdomen\"}\n",
    "              ]),\n",
    "    \n",
    "#     TargetRule(____, \"SSI\"),\n",
    "#     # ...\n",
    "    \n",
    "#     TargetRule(____, \"BODY_LOC\"),\n",
    "    # ...\n",
    "    \n",
    "]"
   ]
  },
  {
   "cell_type": "code",
   "execution_count": null,
   "metadata": {},
   "outputs": [],
   "source": [
    "target_matcher.add(target_rules)"
   ]
  },
  {
   "cell_type": "code",
   "execution_count": null,
   "metadata": {},
   "outputs": [],
   "source": [
    "context_item_data = [\n",
    "    \n",
    "]"
   ]
  },
  {
   "cell_type": "code",
   "execution_count": null,
   "metadata": {},
   "outputs": [],
   "source": [
    "context.add(context_item_data)"
   ]
  },
  {
   "cell_type": "code",
   "execution_count": null,
   "metadata": {},
   "outputs": [],
   "source": [
    "docs = list(nlp.pipe(texts))"
   ]
  },
  {
   "cell_type": "markdown",
   "metadata": {},
   "source": [
    "Now scroll through the results and see if you extracted all of the relevant information. If your model misses any, go back and add them to your rules."
   ]
  },
  {
   "cell_type": "code",
   "execution_count": null,
   "metadata": {},
   "outputs": [],
   "source": [
    "for doc in docs:\n",
    "    visualize_ent(doc, jupyter=True)"
   ]
  },
  {
   "cell_type": "code",
   "execution_count": null,
   "metadata": {},
   "outputs": [],
   "source": [
    "for doc in docs:\n",
    "    visualize_dep(doc, jupyter=True)\n",
    "    print()"
   ]
  },
  {
   "cell_type": "code",
   "execution_count": null,
   "metadata": {},
   "outputs": [],
   "source": []
  },
  {
   "cell_type": "markdown",
   "metadata": {},
   "source": [
    "# II. COVID-19\n",
    "In this exercise, we will look for evidence of COVID-19 from clinical text. See this manuscript describing a similar like this: [A Natural Language Processing System for National\n",
    "COVID-19 Surveillance in the US Department of Veterans Affairs](https://openreview.net/pdf?id=ZQ_HvBxcdCv)\n",
    "\n",
    "- Add target rules to extract any mentions of COVID-19 or synonyms\n",
    "- Add context rules to identify any modifiers such as **\"NEGATED_EXISTENCE\"**, **\"UNCERTAIN\"**, or **\"POSITIVE_EXISTENCE\"** (ie, \"confirmed\" or \"diagnosed with\")\n"
   ]
  },
  {
   "cell_type": "code",
   "execution_count": null,
   "metadata": {},
   "outputs": [],
   "source": [
    "nlp = medspacy.load()\n",
    "target_matcher = nlp.get_pipe(\"target_matcher\")"
   ]
  },
  {
   "cell_type": "code",
   "execution_count": null,
   "metadata": {},
   "outputs": [],
   "source": [
    "texts = [\n",
    "    \"Patient admitted to hospital for respiratory failure secondary to COVID-19.\",\n",
    "    \"The patient reports that they have been diagnosed with COVID-19\",\n",
    "    \"Requested that patient be screened for novel coronavirus via telephone\",\n",
    "    \"Lab Results: SARS-COV-2 DETECTED\",\n",
    "    \"Patient does not have COVID-19\",\n",
    "    \"This encounter is done over the telephone secondary to COVID-19 precautions.\",\n",
    "    \n",
    "]"
   ]
  },
  {
   "cell_type": "code",
   "execution_count": null,
   "metadata": {},
   "outputs": [],
   "source": [
    "target_matcher = nlp.get_pipe(\"target_matcher\")\n",
    "context = nlp.get_pipe(\"context\")"
   ]
  },
  {
   "cell_type": "code",
   "execution_count": null,
   "metadata": {},
   "outputs": [],
   "source": [
    "target_rules = [\n",
    "    TargetRule(___, \"COVID-19\"),\n",
    "    # ...\n",
    "    \n",
    "]"
   ]
  },
  {
   "cell_type": "code",
   "execution_count": null,
   "metadata": {},
   "outputs": [],
   "source": [
    "target_matcher.add(target_rules)"
   ]
  },
  {
   "cell_type": "code",
   "execution_count": null,
   "metadata": {},
   "outputs": [],
   "source": [
    "context = nlp.get_pipe(\"context\")"
   ]
  },
  {
   "cell_type": "code",
   "execution_count": null,
   "metadata": {},
   "outputs": [],
   "source": [
    "item_data = [\n",
    "    ConTextItem(____, \"POSITIVE_EXISTENCE\"),\n",
    "    # ..."
   ]
  },
  {
   "cell_type": "code",
   "execution_count": null,
   "metadata": {},
   "outputs": [],
   "source": [
    "context.add(item_data)"
   ]
  },
  {
   "cell_type": "code",
   "execution_count": null,
   "metadata": {},
   "outputs": [],
   "source": [
    "docs = list(nlp.pipe(texts))"
   ]
  },
  {
   "cell_type": "code",
   "execution_count": null,
   "metadata": {},
   "outputs": [],
   "source": [
    "for doc in docs:\n",
    "    visualize_ent(doc, jupyter=True)"
   ]
  },
  {
   "cell_type": "code",
   "execution_count": null,
   "metadata": {},
   "outputs": [],
   "source": [
    "for doc in docs:\n",
    "    visualize_dep(doc, jupyter=True)\n",
    "    print()"
   ]
  },
  {
   "cell_type": "code",
   "execution_count": null,
   "metadata": {},
   "outputs": [],
   "source": []
  },
  {
   "cell_type": "markdown",
   "metadata": {},
   "source": [
    "# III. Choose Your Own Adventure\n",
    "Are there any problems in your research which involve text data? How can medSpaCy be used to extract information from that data? Add some examples below to illustrate how you could use medSpaCy. Obviously real data will more informative, but starting with some small, made up examples can be a useful method for framing your research question."
   ]
  },
  {
   "cell_type": "code",
   "execution_count": null,
   "metadata": {},
   "outputs": [],
   "source": [
    "my_texts = [\n",
    "    \n",
    "]"
   ]
  },
  {
   "cell_type": "code",
   "execution_count": null,
   "metadata": {},
   "outputs": [],
   "source": []
  }
 ],
 "metadata": {
  "kernelspec": {
   "display_name": "Python 3",
   "language": "python",
   "name": "python3"
  },
  "language_info": {
   "codemirror_mode": {
    "name": "ipython",
    "version": 3
   },
   "file_extension": ".py",
   "mimetype": "text/x-python",
   "name": "python",
   "nbconvert_exporter": "python",
   "pygments_lexer": "ipython3",
   "version": "3.7.6"
  }
 },
 "nbformat": 4,
 "nbformat_minor": 4
}
